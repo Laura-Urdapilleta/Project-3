{
 "cells": [
  {
   "cell_type": "code",
   "execution_count": 15,
   "metadata": {},
   "outputs": [],
   "source": [
    "import pickle\n",
    "import numpy as np\n",
    "import pandas as pd\n",
    "import matplotlib.pyplot as plt\n",
    "from sklearn.model_selection import train_test_split, StratifiedKFold\n",
    "from sklearn.ensemble import ExtraTreesClassifier\n",
    "from sklearn import preprocessing\n",
    "from sklearn.preprocessing import MinMaxScaler\n",
    "\n",
    "#cross-validation\n",
    "from sklearn.model_selection import cross_val_score\n",
    "\n",
    "#resampling\n",
    "from imblearn.over_sampling import RandomOverSampler, SMOTE\n",
    "from imblearn.under_sampling import RandomUnderSampler\n",
    "\n",
    "# algorithms\n",
    "from sklearn.ensemble import RandomForestClassifier\n",
    "from sklearn.neighbors import KNeighborsClassifier\n",
    "from sklearn.svm import LinearSVC, SVC\n",
    "from sklearn import tree\n",
    "from imblearn.metrics import classification_report_imbalanced\n",
    "from sklearn.linear_model import LogisticRegression\n",
    "from sklearn.ensemble import GradientBoostingClassifier\n",
    "from sklearn.ensemble import AdaBoostClassifier\n",
    "from sklearn.naive_bayes import GaussianNB\n",
    "\n",
    "#reports\n",
    "from sklearn.metrics import recall_score, precision_score, f1_score, confusion_matrix\n",
    "import seaborn as sns"
   ]
  },
  {
   "cell_type": "code",
   "execution_count": 16,
   "metadata": {},
   "outputs": [],
   "source": [
    "#Importing clean data\n",
    "pickleFile = open('X_dummies.pickle', 'rb')\n",
    "X = pickle.load(pickleFile)\n",
    "pickleFile.close()\n",
    "\n",
    "pickleFile = open('y.pickle', 'rb')\n",
    "y = pickle.load(pickleFile)\n",
    "pickleFile.close()"
   ]
  },
  {
   "cell_type": "markdown",
   "metadata": {},
   "source": [
    "#### Train/Test Split"
   ]
  },
  {
   "cell_type": "code",
   "execution_count": 17,
   "metadata": {},
   "outputs": [],
   "source": [
    "X_train, X_test, y_train, y_test = train_test_split( X, y, stratify=y,\n",
    "                              test_size=.2, random_state=42)"
   ]
  },
  {
   "cell_type": "markdown",
   "metadata": {},
   "source": [
    "#### Feature Importance"
   ]
  },
  {
   "cell_type": "code",
   "execution_count": 18,
   "metadata": {},
   "outputs": [
    {
     "name": "stderr",
     "output_type": "stream",
     "text": [
      "<ipython-input-18-3b6cef20e260>:3: DataConversionWarning: A column-vector y was passed when a 1d array was expected. Please change the shape of y to (n_samples,), for example using ravel().\n",
      "  forest_selection.fit(X_train, y_train)\n"
     ]
    }
   ],
   "source": [
    "forest_selection = ExtraTreesClassifier(n_estimators=250, random_state=0)\n",
    "\n",
    "forest_selection.fit(X_train, y_train)\n",
    "importances = forest_selection.feature_importances_\n",
    "std = np.std([tree.feature_importances_ for tree in forest_selection.estimators_], axis=0)\n",
    "indices = np.argsort(importances)[::-1]"
   ]
  },
  {
   "cell_type": "code",
   "execution_count": 19,
   "metadata": {},
   "outputs": [
    {
     "data": {
      "image/png": "[encoded data removed]",
      "text/plain": [
       "<Figure size 432x288 with 1 Axes>"
      ]
     },
     "metadata": {
      "needs_background": "light"
     },
     "output_type": "display_data"
    }
   ],
   "source": [
    "#Plot the impurity-based feature importances of the forest\n",
    "plt.figure()\n",
    "plt.title(\"Feature importances\")\n",
    "plt.bar(range(X.shape[1]), importances[indices],\n",
    "         color=\"r\", yerr=std[indices], align=\"center\")\n",
    "plt.xticks(range(X.shape[1]), indices)\n",
    "plt.xlim([-1, X.shape[1]])\n",
    "plt.show()"
   ]
  },
  {
   "cell_type": "code",
   "execution_count": 20,
   "metadata": {},
   "outputs": [],
   "source": [
    "#selecting the most important features\n",
    "number_selected_features = 25\n",
    "X_train, X_test = X_train.values[:, indices[:number_selected_features]], X_test.values[:, indices[:number_selected_features]]\n",
    "y_train, y_test = y_train.values, y_test.values"
   ]
  },
  {
   "cell_type": "code",
   "execution_count": 21,
   "metadata": {},
   "outputs": [
    {
     "name": "stdout",
     "output_type": "stream",
     "text": [
      "geo_level_1_id\n",
      "geo_level_3_id\n",
      "age\n",
      "geo_level_2_id\n",
      "area_percentage\n",
      "height_percentage\n",
      "count_families\n",
      "count_floors_pre_eq\n",
      "foundation_type_r\n",
      "has_superstructure_timber\n",
      "has_superstructure_mud_mortar_stone\n",
      "ground_floor_type_v\n",
      "has_superstructure_adobe_mud\n",
      "has_superstructure_cement_mortar_brick\n",
      "land_surface_condition_t\n",
      "other_floor_type_q\n",
      "ground_floor_type_f\n",
      "land_surface_condition_n\n",
      "has_superstructure_bamboo\n",
      "position_s\n",
      "has_superstructure_mud_mortar_brick\n",
      "roof_type_n\n",
      "position_t\n",
      "has_superstructure_stone_flag\n",
      "has_secondary_use\n"
     ]
    }
   ],
   "source": [
    "featurenames =X.columns\n",
    "for i in indices[:25]:\n",
    "    print(featurenames[i])"
   ]
  },
  {
   "cell_type": "markdown",
   "metadata": {},
   "source": [
    "#### Methods for under comparison"
   ]
  },
  {
   "cell_type": "code",
   "execution_count": 21,
   "metadata": {},
   "outputs": [],
   "source": [
    "Methods_sampling = [\n",
    "    (RandomUnderSampler(sampling_strategy='not minority', random_state=42), 'RUS'),\n",
    "    (RandomOverSampler(sampling_strategy = 'not majority', random_state = 42), 'ROS'),\n",
    "    (SMOTE(sampling_strategy = 'not majority', random_state = 42, k_neighbors = 1), 'smote_1'),\n",
    "    (SMOTE(sampling_strategy = 'not majority', random_state = 42, k_neighbors = 5), 'smote_5'), \n",
    "]\n",
    "\n",
    "\n",
    "Methods_learn = [\n",
    "    (tree.DecisionTreeClassifier(random_state = 42, max_depth=6), 'DT6'),\n",
    "    (tree.DecisionTreeClassifier(random_state = 42, max_depth=12), 'DT12'),\n",
    "    (tree.DecisionTreeClassifier(random_state = 42, max_depth=32), 'DT32'),\n",
    "    (RandomForestClassifier(n_estimators= 50, criterion = 'gini'), 'RF_50'),\n",
    "    (RandomForestClassifier(n_estimators= 100, criterion = 'gini'), 'RF_100'), \n",
    "    (KNeighborsClassifier(n_neighbors = 5), 'KNN_5'), \n",
    "    (KNeighborsClassifier(n_neighbors = 15), 'KNN_15'),\n",
    "    (LogisticRegression(C = 1, max_iter=3000, solver = 'sag', random_state = 42), 'LR'),\n",
    "    (GradientBoostingClassifier(random_state = 42), 'GB_default'),\n",
    "    (GradientBoostingClassifier(n_estimators=500, random_state = 42), 'GB_ne500'),\n",
    "    (GradientBoostingClassifier(n_estimators=500, max_depth=10, random_state = 42), 'GB_ne500md10'),\n",
    "    (AdaBoostClassifier(), 'AB'),\n",
    "    (LinearSVC(C = 0.1, random_state = 42, max_iter=10000), 'LSVC_0.1'),\n",
    "    (LinearSVC(C = 1, random_state = 42, max_iter=10000), 'LSVC_1'),\n",
    "    (LinearSVC(C = 10, random_state = 42, max_iter=10000), 'LSVC_10'),\n",
    "    (GaussianNB(), 'Gaussian'),\n",
    "]"
   ]
  },
  {
   "cell_type": "markdown",
   "metadata": {},
   "source": [
    "#### Metrics"
   ]
  },
  {
   "cell_type": "code",
   "execution_count": 22,
   "metadata": {},
   "outputs": [],
   "source": [
    "dict_results = {}\n",
    "\n",
    "recalls = []\n",
    "precisions = []\n",
    "f1 = []\n",
    "methods = []"
   ]
  },
  {
   "cell_type": "markdown",
   "metadata": {},
   "source": [
    "#### Running the algorithms with cross-validation"
   ]
  },
  {
   "cell_type": "code",
   "execution_count": 27,
   "metadata": {},
   "outputs": [
    {
     "name": "stdout",
     "output_type": "stream",
     "text": [
      "RUS DT6\n",
      "RUS DT12\n",
      "RUS DT32\n",
      "RUS RF_50\n",
      "RUS RF_100\n",
      "RUS KNN_5\n",
      "RUS KNN_15\n",
      "RUS LR\n"
     ]
    },
    {
     "name": "stderr",
     "output_type": "stream",
     "text": [
      "/Applications/anaconda3/lib/python3.8/site-packages/sklearn/linear_model/_sag.py:329: ConvergenceWarning: The max_iter was reached which means the coef_ did not converge\n",
      "  warnings.warn(\"The max_iter was reached which means \"\n",
      "/Applications/anaconda3/lib/python3.8/site-packages/sklearn/linear_model/_sag.py:329: ConvergenceWarning: The max_iter was reached which means the coef_ did not converge\n",
      "  warnings.warn(\"The max_iter was reached which means \"\n",
      "/Applications/anaconda3/lib/python3.8/site-packages/sklearn/linear_model/_sag.py:329: ConvergenceWarning: The max_iter was reached which means the coef_ did not converge\n",
      "  warnings.warn(\"The max_iter was reached which means \"\n",
      "/Applications/anaconda3/lib/python3.8/site-packages/sklearn/linear_model/_sag.py:329: ConvergenceWarning: The max_iter was reached which means the coef_ did not converge\n",
      "  warnings.warn(\"The max_iter was reached which means \"\n",
      "/Applications/anaconda3/lib/python3.8/site-packages/sklearn/linear_model/_sag.py:329: ConvergenceWarning: The max_iter was reached which means the coef_ did not converge\n",
      "  warnings.warn(\"The max_iter was reached which means \"\n",
      "/Applications/anaconda3/lib/python3.8/site-packages/sklearn/linear_model/_sag.py:329: ConvergenceWarning: The max_iter was reached which means the coef_ did not converge\n",
      "  warnings.warn(\"The max_iter was reached which means \"\n",
      "/Applications/anaconda3/lib/python3.8/site-packages/sklearn/linear_model/_sag.py:329: ConvergenceWarning: The max_iter was reached which means the coef_ did not converge\n",
      "  warnings.warn(\"The max_iter was reached which means \"\n",
      "/Applications/anaconda3/lib/python3.8/site-packages/sklearn/linear_model/_sag.py:329: ConvergenceWarning: The max_iter was reached which means the coef_ did not converge\n",
      "  warnings.warn(\"The max_iter was reached which means \"\n",
      "/Applications/anaconda3/lib/python3.8/site-packages/sklearn/linear_model/_sag.py:329: ConvergenceWarning: The max_iter was reached which means the coef_ did not converge\n",
      "  warnings.warn(\"The max_iter was reached which means \"\n",
      "/Applications/anaconda3/lib/python3.8/site-packages/sklearn/linear_model/_sag.py:329: ConvergenceWarning: The max_iter was reached which means the coef_ did not converge\n",
      "  warnings.warn(\"The max_iter was reached which means \"\n"
     ]
    },
    {
     "name": "stdout",
     "output_type": "stream",
     "text": [
      "RUS GB_default\n",
      "RUS GB_ne500\n",
      "RUS GB_ne500md10\n",
      "RUS AB\n",
      "RUS LSVC_0.1\n"
     ]
    },
    {
     "name": "stderr",
     "output_type": "stream",
     "text": [
      "/Applications/anaconda3/lib/python3.8/site-packages/sklearn/svm/_base.py:976: ConvergenceWarning: Liblinear failed to converge, increase the number of iterations.\n",
      "  warnings.warn(\"Liblinear failed to converge, increase \"\n",
      "/Applications/anaconda3/lib/python3.8/site-packages/sklearn/svm/_base.py:976: ConvergenceWarning: Liblinear failed to converge, increase the number of iterations.\n",
      "  warnings.warn(\"Liblinear failed to converge, increase \"\n",
      "/Applications/anaconda3/lib/python3.8/site-packages/sklearn/svm/_base.py:976: ConvergenceWarning: Liblinear failed to converge, increase the number of iterations.\n",
      "  warnings.warn(\"Liblinear failed to converge, increase \"\n",
      "/Applications/anaconda3/lib/python3.8/site-packages/sklearn/svm/_base.py:976: ConvergenceWarning: Liblinear failed to converge, increase the number of iterations.\n",
      "  warnings.warn(\"Liblinear failed to converge, increase \"\n",
      "/Applications/anaconda3/lib/python3.8/site-packages/sklearn/svm/_base.py:976: ConvergenceWarning: Liblinear failed to converge, increase the number of iterations.\n",
      "  warnings.warn(\"Liblinear failed to converge, increase \"\n",
      "/Applications/anaconda3/lib/python3.8/site-packages/sklearn/svm/_base.py:976: ConvergenceWarning: Liblinear failed to converge, increase the number of iterations.\n",
      "  warnings.warn(\"Liblinear failed to converge, increase \"\n",
      "/Applications/anaconda3/lib/python3.8/site-packages/sklearn/svm/_base.py:976: ConvergenceWarning: Liblinear failed to converge, increase the number of iterations.\n",
      "  warnings.warn(\"Liblinear failed to converge, increase \"\n",
      "/Applications/anaconda3/lib/python3.8/site-packages/sklearn/svm/_base.py:976: ConvergenceWarning: Liblinear failed to converge, increase the number of iterations.\n",
      "  warnings.warn(\"Liblinear failed to converge, increase \"\n",
      "/Applications/anaconda3/lib/python3.8/site-packages/sklearn/svm/_base.py:976: ConvergenceWarning: Liblinear failed to converge, increase the number of iterations.\n",
      "  warnings.warn(\"Liblinear failed to converge, increase \"\n",
      "/Applications/anaconda3/lib/python3.8/site-packages/sklearn/svm/_base.py:976: ConvergenceWarning: Liblinear failed to converge, increase the number of iterations.\n",
      "  warnings.warn(\"Liblinear failed to converge, increase \"\n"
     ]
    },
    {
     "name": "stdout",
     "output_type": "stream",
     "text": [
      "RUS LSVC_1\n"
     ]
    },
    {
     "name": "stderr",
     "output_type": "stream",
     "text": [
      "/Applications/anaconda3/lib/python3.8/site-packages/sklearn/svm/_base.py:976: ConvergenceWarning: Liblinear failed to converge, increase the number of iterations.\n",
      "  warnings.warn(\"Liblinear failed to converge, increase \"\n",
      "/Applications/anaconda3/lib/python3.8/site-packages/sklearn/svm/_base.py:976: ConvergenceWarning: Liblinear failed to converge, increase the number of iterations.\n",
      "  warnings.warn(\"Liblinear failed to converge, increase \"\n",
      "/Applications/anaconda3/lib/python3.8/site-packages/sklearn/svm/_base.py:976: ConvergenceWarning: Liblinear failed to converge, increase the number of iterations.\n",
      "  warnings.warn(\"Liblinear failed to converge, increase \"\n",
      "/Applications/anaconda3/lib/python3.8/site-packages/sklearn/svm/_base.py:976: ConvergenceWarning: Liblinear failed to converge, increase the number of iterations.\n",
      "  warnings.warn(\"Liblinear failed to converge, increase \"\n",
      "/Applications/anaconda3/lib/python3.8/site-packages/sklearn/svm/_base.py:976: ConvergenceWarning: Liblinear failed to converge, increase the number of iterations.\n",
      "  warnings.warn(\"Liblinear failed to converge, increase \"\n",
      "/Applications/anaconda3/lib/python3.8/site-packages/sklearn/svm/_base.py:976: ConvergenceWarning: Liblinear failed to converge, increase the number of iterations.\n",
      "  warnings.warn(\"Liblinear failed to converge, increase \"\n",
      "/Applications/anaconda3/lib/python3.8/site-packages/sklearn/svm/_base.py:976: ConvergenceWarning: Liblinear failed to converge, increase the number of iterations.\n",
      "  warnings.warn(\"Liblinear failed to converge, increase \"\n",
      "/Applications/anaconda3/lib/python3.8/site-packages/sklearn/svm/_base.py:976: ConvergenceWarning: Liblinear failed to converge, increase the number of iterations.\n",
      "  warnings.warn(\"Liblinear failed to converge, increase \"\n",
      "/Applications/anaconda3/lib/python3.8/site-packages/sklearn/svm/_base.py:976: ConvergenceWarning: Liblinear failed to converge, increase the number of iterations.\n",
      "  warnings.warn(\"Liblinear failed to converge, increase \"\n",
      "/Applications/anaconda3/lib/python3.8/site-packages/sklearn/svm/_base.py:976: ConvergenceWarning: Liblinear failed to converge, increase the number of iterations.\n",
      "  warnings.warn(\"Liblinear failed to converge, increase \"\n"
     ]
    },
    {
     "name": "stdout",
     "output_type": "stream",
     "text": [
      "RUS LSVC_10\n"
     ]
    },
    {
     "name": "stderr",
     "output_type": "stream",
     "text": [
      "/Applications/anaconda3/lib/python3.8/site-packages/sklearn/svm/_base.py:976: ConvergenceWarning: Liblinear failed to converge, increase the number of iterations.\n",
      "  warnings.warn(\"Liblinear failed to converge, increase \"\n",
      "/Applications/anaconda3/lib/python3.8/site-packages/sklearn/svm/_base.py:976: ConvergenceWarning: Liblinear failed to converge, increase the number of iterations.\n",
      "  warnings.warn(\"Liblinear failed to converge, increase \"\n",
      "/Applications/anaconda3/lib/python3.8/site-packages/sklearn/svm/_base.py:976: ConvergenceWarning: Liblinear failed to converge, increase the number of iterations.\n",
      "  warnings.warn(\"Liblinear failed to converge, increase \"\n",
      "/Applications/anaconda3/lib/python3.8/site-packages/sklearn/svm/_base.py:976: ConvergenceWarning: Liblinear failed to converge, increase the number of iterations.\n",
      "  warnings.warn(\"Liblinear failed to converge, increase \"\n",
      "/Applications/anaconda3/lib/python3.8/site-packages/sklearn/svm/_base.py:976: ConvergenceWarning: Liblinear failed to converge, increase the number of iterations.\n",
      "  warnings.warn(\"Liblinear failed to converge, increase \"\n",
      "/Applications/anaconda3/lib/python3.8/site-packages/sklearn/svm/_base.py:976: ConvergenceWarning: Liblinear failed to converge, increase the number of iterations.\n",
      "  warnings.warn(\"Liblinear failed to converge, increase \"\n",
      "/Applications/anaconda3/lib/python3.8/site-packages/sklearn/svm/_base.py:976: ConvergenceWarning: Liblinear failed to converge, increase the number of iterations.\n",
      "  warnings.warn(\"Liblinear failed to converge, increase \"\n",
      "/Applications/anaconda3/lib/python3.8/site-packages/sklearn/svm/_base.py:976: ConvergenceWarning: Liblinear failed to converge, increase the number of iterations.\n",
      "  warnings.warn(\"Liblinear failed to converge, increase \"\n",
      "/Applications/anaconda3/lib/python3.8/site-packages/sklearn/svm/_base.py:976: ConvergenceWarning: Liblinear failed to converge, increase the number of iterations.\n",
      "  warnings.warn(\"Liblinear failed to converge, increase \"\n",
      "/Applications/anaconda3/lib/python3.8/site-packages/sklearn/svm/_base.py:976: ConvergenceWarning: Liblinear failed to converge, increase the number of iterations.\n",
      "  warnings.warn(\"Liblinear failed to converge, increase \"\n"
     ]
    },
    {
     "name": "stdout",
     "output_type": "stream",
     "text": [
      "RUS Gaussian\n",
      "ROS DT6\n",
      "ROS DT12\n",
      "ROS DT32\n",
      "ROS RF_50\n",
      "ROS RF_100\n",
      "ROS KNN_5\n",
      "ROS KNN_15\n",
      "ROS LR\n"
     ]
    },
    {
     "name": "stderr",
     "output_type": "stream",
     "text": [
      "/Applications/anaconda3/lib/python3.8/site-packages/sklearn/linear_model/_sag.py:329: ConvergenceWarning: The max_iter was reached which means the coef_ did not converge\n",
      "  warnings.warn(\"The max_iter was reached which means \"\n",
      "/Applications/anaconda3/lib/python3.8/site-packages/sklearn/linear_model/_sag.py:329: ConvergenceWarning: The max_iter was reached which means the coef_ did not converge\n",
      "  warnings.warn(\"The max_iter was reached which means \"\n",
      "/Applications/anaconda3/lib/python3.8/site-packages/sklearn/linear_model/_sag.py:329: ConvergenceWarning: The max_iter was reached which means the coef_ did not converge\n",
      "  warnings.warn(\"The max_iter was reached which means \"\n",
      "/Applications/anaconda3/lib/python3.8/site-packages/sklearn/linear_model/_sag.py:329: ConvergenceWarning: The max_iter was reached which means the coef_ did not converge\n",
      "  warnings.warn(\"The max_iter was reached which means \"\n",
      "/Applications/anaconda3/lib/python3.8/site-packages/sklearn/linear_model/_sag.py:329: ConvergenceWarning: The max_iter was reached which means the coef_ did not converge\n",
      "  warnings.warn(\"The max_iter was reached which means \"\n",
      "/Applications/anaconda3/lib/python3.8/site-packages/sklearn/linear_model/_sag.py:329: ConvergenceWarning: The max_iter was reached which means the coef_ did not converge\n",
      "  warnings.warn(\"The max_iter was reached which means \"\n",
      "/Applications/anaconda3/lib/python3.8/site-packages/sklearn/linear_model/_sag.py:329: ConvergenceWarning: The max_iter was reached which means the coef_ did not converge\n",
      "  warnings.warn(\"The max_iter was reached which means \"\n",
      "/Applications/anaconda3/lib/python3.8/site-packages/sklearn/linear_model/_sag.py:329: ConvergenceWarning: The max_iter was reached which means the coef_ did not converge\n",
      "  warnings.warn(\"The max_iter was reached which means \"\n",
      "/Applications/anaconda3/lib/python3.8/site-packages/sklearn/linear_model/_sag.py:329: ConvergenceWarning: The max_iter was reached which means the coef_ did not converge\n",
      "  warnings.warn(\"The max_iter was reached which means \"\n",
      "/Applications/anaconda3/lib/python3.8/site-packages/sklearn/linear_model/_sag.py:329: ConvergenceWarning: The max_iter was reached which means the coef_ did not converge\n",
      "  warnings.warn(\"The max_iter was reached which means \"\n"
     ]
    },
    {
     "name": "stdout",
     "output_type": "stream",
     "text": [
      "ROS GB_default\n",
      "ROS GB_ne500\n",
      "ROS GB_ne500md10\n",
      "ROS AB\n",
      "ROS LSVC_0.1\n"
     ]
    },
    {
     "name": "stderr",
     "output_type": "stream",
     "text": [
      "/Applications/anaconda3/lib/python3.8/site-packages/sklearn/svm/_base.py:976: ConvergenceWarning: Liblinear failed to converge, increase the number of iterations.\n",
      "  warnings.warn(\"Liblinear failed to converge, increase \"\n",
      "/Applications/anaconda3/lib/python3.8/site-packages/sklearn/svm/_base.py:976: ConvergenceWarning: Liblinear failed to converge, increase the number of iterations.\n",
      "  warnings.warn(\"Liblinear failed to converge, increase \"\n",
      "/Applications/anaconda3/lib/python3.8/site-packages/sklearn/svm/_base.py:976: ConvergenceWarning: Liblinear failed to converge, increase the number of iterations.\n",
      "  warnings.warn(\"Liblinear failed to converge, increase \"\n",
      "/Applications/anaconda3/lib/python3.8/site-packages/sklearn/svm/_base.py:976: ConvergenceWarning: Liblinear failed to converge, increase the number of iterations.\n",
      "  warnings.warn(\"Liblinear failed to converge, increase \"\n",
      "/Applications/anaconda3/lib/python3.8/site-packages/sklearn/svm/_base.py:976: ConvergenceWarning: Liblinear failed to converge, increase the number of iterations.\n",
      "  warnings.warn(\"Liblinear failed to converge, increase \"\n",
      "/Applications/anaconda3/lib/python3.8/site-packages/sklearn/svm/_base.py:976: ConvergenceWarning: Liblinear failed to converge, increase the number of iterations.\n",
      "  warnings.warn(\"Liblinear failed to converge, increase \"\n",
      "/Applications/anaconda3/lib/python3.8/site-packages/sklearn/svm/_base.py:976: ConvergenceWarning: Liblinear failed to converge, increase the number of iterations.\n",
      "  warnings.warn(\"Liblinear failed to converge, increase \"\n",
      "/Applications/anaconda3/lib/python3.8/site-packages/sklearn/svm/_base.py:976: ConvergenceWarning: Liblinear failed to converge, increase the number of iterations.\n",
      "  warnings.warn(\"Liblinear failed to converge, increase \"\n",
      "/Applications/anaconda3/lib/python3.8/site-packages/sklearn/svm/_base.py:976: ConvergenceWarning: Liblinear failed to converge, increase the number of iterations.\n",
      "  warnings.warn(\"Liblinear failed to converge, increase \"\n",
      "/Applications/anaconda3/lib/python3.8/site-packages/sklearn/metrics/_classification.py:1221: UndefinedMetricWarning: Precision is ill-defined and being set to 0.0 in labels with no predicted samples. Use `zero_division` parameter to control this behavior.\n",
      "  _warn_prf(average, modifier, msg_start, len(result))\n",
      "/Applications/anaconda3/lib/python3.8/site-packages/sklearn/svm/_base.py:976: ConvergenceWarning: Liblinear failed to converge, increase the number of iterations.\n",
      "  warnings.warn(\"Liblinear failed to converge, increase \"\n"
     ]
    },
    {
     "name": "stdout",
     "output_type": "stream",
     "text": [
      "ROS LSVC_1\n"
     ]
    },
    {
     "name": "stderr",
     "output_type": "stream",
     "text": [
      "/Applications/anaconda3/lib/python3.8/site-packages/sklearn/svm/_base.py:976: ConvergenceWarning: Liblinear failed to converge, increase the number of iterations.\n",
      "  warnings.warn(\"Liblinear failed to converge, increase \"\n",
      "/Applications/anaconda3/lib/python3.8/site-packages/sklearn/svm/_base.py:976: ConvergenceWarning: Liblinear failed to converge, increase the number of iterations.\n",
      "  warnings.warn(\"Liblinear failed to converge, increase \"\n",
      "/Applications/anaconda3/lib/python3.8/site-packages/sklearn/svm/_base.py:976: ConvergenceWarning: Liblinear failed to converge, increase the number of iterations.\n",
      "  warnings.warn(\"Liblinear failed to converge, increase \"\n",
      "/Applications/anaconda3/lib/python3.8/site-packages/sklearn/svm/_base.py:976: ConvergenceWarning: Liblinear failed to converge, increase the number of iterations.\n",
      "  warnings.warn(\"Liblinear failed to converge, increase \"\n",
      "/Applications/anaconda3/lib/python3.8/site-packages/sklearn/svm/_base.py:976: ConvergenceWarning: Liblinear failed to converge, increase the number of iterations.\n",
      "  warnings.warn(\"Liblinear failed to converge, increase \"\n",
      "/Applications/anaconda3/lib/python3.8/site-packages/sklearn/svm/_base.py:976: ConvergenceWarning: Liblinear failed to converge, increase the number of iterations.\n",
      "  warnings.warn(\"Liblinear failed to converge, increase \"\n",
      "/Applications/anaconda3/lib/python3.8/site-packages/sklearn/svm/_base.py:976: ConvergenceWarning: Liblinear failed to converge, increase the number of iterations.\n",
      "  warnings.warn(\"Liblinear failed to converge, increase \"\n",
      "/Applications/anaconda3/lib/python3.8/site-packages/sklearn/svm/_base.py:976: ConvergenceWarning: Liblinear failed to converge, increase the number of iterations.\n",
      "  warnings.warn(\"Liblinear failed to converge, increase \"\n",
      "/Applications/anaconda3/lib/python3.8/site-packages/sklearn/svm/_base.py:976: ConvergenceWarning: Liblinear failed to converge, increase the number of iterations.\n",
      "  warnings.warn(\"Liblinear failed to converge, increase \"\n",
      "/Applications/anaconda3/lib/python3.8/site-packages/sklearn/svm/_base.py:976: ConvergenceWarning: Liblinear failed to converge, increase the number of iterations.\n",
      "  warnings.warn(\"Liblinear failed to converge, increase \"\n"
     ]
    },
    {
     "name": "stdout",
     "output_type": "stream",
     "text": [
      "ROS LSVC_10\n"
     ]
    },
    {
     "name": "stderr",
     "output_type": "stream",
     "text": [
      "/Applications/anaconda3/lib/python3.8/site-packages/sklearn/svm/_base.py:976: ConvergenceWarning: Liblinear failed to converge, increase the number of iterations.\n",
      "  warnings.warn(\"Liblinear failed to converge, increase \"\n",
      "/Applications/anaconda3/lib/python3.8/site-packages/sklearn/svm/_base.py:976: ConvergenceWarning: Liblinear failed to converge, increase the number of iterations.\n",
      "  warnings.warn(\"Liblinear failed to converge, increase \"\n",
      "/Applications/anaconda3/lib/python3.8/site-packages/sklearn/svm/_base.py:976: ConvergenceWarning: Liblinear failed to converge, increase the number of iterations.\n",
      "  warnings.warn(\"Liblinear failed to converge, increase \"\n",
      "/Applications/anaconda3/lib/python3.8/site-packages/sklearn/svm/_base.py:976: ConvergenceWarning: Liblinear failed to converge, increase the number of iterations.\n",
      "  warnings.warn(\"Liblinear failed to converge, increase \"\n",
      "/Applications/anaconda3/lib/python3.8/site-packages/sklearn/svm/_base.py:976: ConvergenceWarning: Liblinear failed to converge, increase the number of iterations.\n",
      "  warnings.warn(\"Liblinear failed to converge, increase \"\n",
      "/Applications/anaconda3/lib/python3.8/site-packages/sklearn/svm/_base.py:976: ConvergenceWarning: Liblinear failed to converge, increase the number of iterations.\n",
      "  warnings.warn(\"Liblinear failed to converge, increase \"\n",
      "/Applications/anaconda3/lib/python3.8/site-packages/sklearn/svm/_base.py:976: ConvergenceWarning: Liblinear failed to converge, increase the number of iterations.\n",
      "  warnings.warn(\"Liblinear failed to converge, increase \"\n",
      "/Applications/anaconda3/lib/python3.8/site-packages/sklearn/svm/_base.py:976: ConvergenceWarning: Liblinear failed to converge, increase the number of iterations.\n",
      "  warnings.warn(\"Liblinear failed to converge, increase \"\n",
      "/Applications/anaconda3/lib/python3.8/site-packages/sklearn/svm/_base.py:976: ConvergenceWarning: Liblinear failed to converge, increase the number of iterations.\n",
      "  warnings.warn(\"Liblinear failed to converge, increase \"\n",
      "/Applications/anaconda3/lib/python3.8/site-packages/sklearn/svm/_base.py:976: ConvergenceWarning: Liblinear failed to converge, increase the number of iterations.\n",
      "  warnings.warn(\"Liblinear failed to converge, increase \"\n"
     ]
    },
    {
     "name": "stdout",
     "output_type": "stream",
     "text": [
      "ROS Gaussian\n",
      "smote_1 DT6\n",
      "smote_1 DT12\n",
      "smote_1 DT32\n",
      "smote_1 RF_50\n",
      "smote_1 RF_100\n",
      "smote_1 KNN_5\n",
      "smote_1 KNN_15\n",
      "smote_1 LR\n"
     ]
    },
    {
     "name": "stderr",
     "output_type": "stream",
     "text": [
      "/Applications/anaconda3/lib/python3.8/site-packages/sklearn/linear_model/_sag.py:329: ConvergenceWarning: The max_iter was reached which means the coef_ did not converge\n",
      "  warnings.warn(\"The max_iter was reached which means \"\n",
      "/Applications/anaconda3/lib/python3.8/site-packages/sklearn/linear_model/_sag.py:329: ConvergenceWarning: The max_iter was reached which means the coef_ did not converge\n",
      "  warnings.warn(\"The max_iter was reached which means \"\n",
      "/Applications/anaconda3/lib/python3.8/site-packages/sklearn/linear_model/_sag.py:329: ConvergenceWarning: The max_iter was reached which means the coef_ did not converge\n",
      "  warnings.warn(\"The max_iter was reached which means \"\n",
      "/Applications/anaconda3/lib/python3.8/site-packages/sklearn/linear_model/_sag.py:329: ConvergenceWarning: The max_iter was reached which means the coef_ did not converge\n",
      "  warnings.warn(\"The max_iter was reached which means \"\n",
      "/Applications/anaconda3/lib/python3.8/site-packages/sklearn/linear_model/_sag.py:329: ConvergenceWarning: The max_iter was reached which means the coef_ did not converge\n",
      "  warnings.warn(\"The max_iter was reached which means \"\n",
      "/Applications/anaconda3/lib/python3.8/site-packages/sklearn/linear_model/_sag.py:329: ConvergenceWarning: The max_iter was reached which means the coef_ did not converge\n",
      "  warnings.warn(\"The max_iter was reached which means \"\n",
      "/Applications/anaconda3/lib/python3.8/site-packages/sklearn/linear_model/_sag.py:329: ConvergenceWarning: The max_iter was reached which means the coef_ did not converge\n",
      "  warnings.warn(\"The max_iter was reached which means \"\n",
      "/Applications/anaconda3/lib/python3.8/site-packages/sklearn/linear_model/_sag.py:329: ConvergenceWarning: The max_iter was reached which means the coef_ did not converge\n",
      "  warnings.warn(\"The max_iter was reached which means \"\n",
      "/Applications/anaconda3/lib/python3.8/site-packages/sklearn/linear_model/_sag.py:329: ConvergenceWarning: The max_iter was reached which means the coef_ did not converge\n",
      "  warnings.warn(\"The max_iter was reached which means \"\n",
      "/Applications/anaconda3/lib/python3.8/site-packages/sklearn/linear_model/_sag.py:329: ConvergenceWarning: The max_iter was reached which means the coef_ did not converge\n",
      "  warnings.warn(\"The max_iter was reached which means \"\n"
     ]
    },
    {
     "name": "stdout",
     "output_type": "stream",
     "text": [
      "smote_1 GB_default\n",
      "smote_1 GB_ne500\n",
      "smote_1 GB_ne500md10\n",
      "smote_1 AB\n",
      "smote_1 LSVC_0.1\n"
     ]
    },
    {
     "name": "stderr",
     "output_type": "stream",
     "text": [
      "/Applications/anaconda3/lib/python3.8/site-packages/sklearn/svm/_base.py:976: ConvergenceWarning: Liblinear failed to converge, increase the number of iterations.\n",
      "  warnings.warn(\"Liblinear failed to converge, increase \"\n",
      "/Applications/anaconda3/lib/python3.8/site-packages/sklearn/svm/_base.py:976: ConvergenceWarning: Liblinear failed to converge, increase the number of iterations.\n",
      "  warnings.warn(\"Liblinear failed to converge, increase \"\n",
      "/Applications/anaconda3/lib/python3.8/site-packages/sklearn/svm/_base.py:976: ConvergenceWarning: Liblinear failed to converge, increase the number of iterations.\n",
      "  warnings.warn(\"Liblinear failed to converge, increase \"\n",
      "/Applications/anaconda3/lib/python3.8/site-packages/sklearn/svm/_base.py:976: ConvergenceWarning: Liblinear failed to converge, increase the number of iterations.\n",
      "  warnings.warn(\"Liblinear failed to converge, increase \"\n",
      "/Applications/anaconda3/lib/python3.8/site-packages/sklearn/svm/_base.py:976: ConvergenceWarning: Liblinear failed to converge, increase the number of iterations.\n",
      "  warnings.warn(\"Liblinear failed to converge, increase \"\n",
      "/Applications/anaconda3/lib/python3.8/site-packages/sklearn/svm/_base.py:976: ConvergenceWarning: Liblinear failed to converge, increase the number of iterations.\n",
      "  warnings.warn(\"Liblinear failed to converge, increase \"\n",
      "/Applications/anaconda3/lib/python3.8/site-packages/sklearn/svm/_base.py:976: ConvergenceWarning: Liblinear failed to converge, increase the number of iterations.\n",
      "  warnings.warn(\"Liblinear failed to converge, increase \"\n",
      "/Applications/anaconda3/lib/python3.8/site-packages/sklearn/svm/_base.py:976: ConvergenceWarning: Liblinear failed to converge, increase the number of iterations.\n",
      "  warnings.warn(\"Liblinear failed to converge, increase \"\n",
      "/Applications/anaconda3/lib/python3.8/site-packages/sklearn/svm/_base.py:976: ConvergenceWarning: Liblinear failed to converge, increase the number of iterations.\n",
      "  warnings.warn(\"Liblinear failed to converge, increase \"\n",
      "/Applications/anaconda3/lib/python3.8/site-packages/sklearn/svm/_base.py:976: ConvergenceWarning: Liblinear failed to converge, increase the number of iterations.\n",
      "  warnings.warn(\"Liblinear failed to converge, increase \"\n"
     ]
    },
    {
     "name": "stdout",
     "output_type": "stream",
     "text": [
      "smote_1 LSVC_1\n"
     ]
    },
    {
     "name": "stderr",
     "output_type": "stream",
     "text": [
      "/Applications/anaconda3/lib/python3.8/site-packages/sklearn/svm/_base.py:976: ConvergenceWarning: Liblinear failed to converge, increase the number of iterations.\n",
      "  warnings.warn(\"Liblinear failed to converge, increase \"\n",
      "/Applications/anaconda3/lib/python3.8/site-packages/sklearn/svm/_base.py:976: ConvergenceWarning: Liblinear failed to converge, increase the number of iterations.\n",
      "  warnings.warn(\"Liblinear failed to converge, increase \"\n",
      "/Applications/anaconda3/lib/python3.8/site-packages/sklearn/svm/_base.py:976: ConvergenceWarning: Liblinear failed to converge, increase the number of iterations.\n",
      "  warnings.warn(\"Liblinear failed to converge, increase \"\n",
      "/Applications/anaconda3/lib/python3.8/site-packages/sklearn/svm/_base.py:976: ConvergenceWarning: Liblinear failed to converge, increase the number of iterations.\n",
      "  warnings.warn(\"Liblinear failed to converge, increase \"\n",
      "/Applications/anaconda3/lib/python3.8/site-packages/sklearn/svm/_base.py:976: ConvergenceWarning: Liblinear failed to converge, increase the number of iterations.\n",
      "  warnings.warn(\"Liblinear failed to converge, increase \"\n",
      "/Applications/anaconda3/lib/python3.8/site-packages/sklearn/svm/_base.py:976: ConvergenceWarning: Liblinear failed to converge, increase the number of iterations.\n",
      "  warnings.warn(\"Liblinear failed to converge, increase \"\n",
      "/Applications/anaconda3/lib/python3.8/site-packages/sklearn/svm/_base.py:976: ConvergenceWarning: Liblinear failed to converge, increase the number of iterations.\n",
      "  warnings.warn(\"Liblinear failed to converge, increase \"\n",
      "/Applications/anaconda3/lib/python3.8/site-packages/sklearn/svm/_base.py:976: ConvergenceWarning: Liblinear failed to converge, increase the number of iterations.\n",
      "  warnings.warn(\"Liblinear failed to converge, increase \"\n",
      "/Applications/anaconda3/lib/python3.8/site-packages/sklearn/svm/_base.py:976: ConvergenceWarning: Liblinear failed to converge, increase the number of iterations.\n",
      "  warnings.warn(\"Liblinear failed to converge, increase \"\n",
      "/Applications/anaconda3/lib/python3.8/site-packages/sklearn/svm/_base.py:976: ConvergenceWarning: Liblinear failed to converge, increase the number of iterations.\n",
      "  warnings.warn(\"Liblinear failed to converge, increase \"\n"
     ]
    },
    {
     "name": "stdout",
     "output_type": "stream",
     "text": [
      "smote_1 LSVC_10\n"
     ]
    },
    {
     "name": "stderr",
     "output_type": "stream",
     "text": [
      "/Applications/anaconda3/lib/python3.8/site-packages/sklearn/svm/_base.py:976: ConvergenceWarning: Liblinear failed to converge, increase the number of iterations.\n",
      "  warnings.warn(\"Liblinear failed to converge, increase \"\n",
      "/Applications/anaconda3/lib/python3.8/site-packages/sklearn/svm/_base.py:976: ConvergenceWarning: Liblinear failed to converge, increase the number of iterations.\n",
      "  warnings.warn(\"Liblinear failed to converge, increase \"\n",
      "/Applications/anaconda3/lib/python3.8/site-packages/sklearn/svm/_base.py:976: ConvergenceWarning: Liblinear failed to converge, increase the number of iterations.\n",
      "  warnings.warn(\"Liblinear failed to converge, increase \"\n",
      "/Applications/anaconda3/lib/python3.8/site-packages/sklearn/svm/_base.py:976: ConvergenceWarning: Liblinear failed to converge, increase the number of iterations.\n",
      "  warnings.warn(\"Liblinear failed to converge, increase \"\n",
      "/Applications/anaconda3/lib/python3.8/site-packages/sklearn/svm/_base.py:976: ConvergenceWarning: Liblinear failed to converge, increase the number of iterations.\n",
      "  warnings.warn(\"Liblinear failed to converge, increase \"\n",
      "/Applications/anaconda3/lib/python3.8/site-packages/sklearn/svm/_base.py:976: ConvergenceWarning: Liblinear failed to converge, increase the number of iterations.\n",
      "  warnings.warn(\"Liblinear failed to converge, increase \"\n",
      "/Applications/anaconda3/lib/python3.8/site-packages/sklearn/svm/_base.py:976: ConvergenceWarning: Liblinear failed to converge, increase the number of iterations.\n",
      "  warnings.warn(\"Liblinear failed to converge, increase \"\n",
      "/Applications/anaconda3/lib/python3.8/site-packages/sklearn/svm/_base.py:976: ConvergenceWarning: Liblinear failed to converge, increase the number of iterations.\n",
      "  warnings.warn(\"Liblinear failed to converge, increase \"\n",
      "/Applications/anaconda3/lib/python3.8/site-packages/sklearn/svm/_base.py:976: ConvergenceWarning: Liblinear failed to converge, increase the number of iterations.\n",
      "  warnings.warn(\"Liblinear failed to converge, increase \"\n",
      "/Applications/anaconda3/lib/python3.8/site-packages/sklearn/svm/_base.py:976: ConvergenceWarning: Liblinear failed to converge, increase the number of iterations.\n",
      "  warnings.warn(\"Liblinear failed to converge, increase \"\n"
     ]
    },
    {
     "name": "stdout",
     "output_type": "stream",
     "text": [
      "smote_1 Gaussian\n",
      "smote_5 DT6\n",
      "smote_5 DT12\n",
      "smote_5 DT32\n",
      "smote_5 RF_50\n",
      "smote_5 RF_100\n",
      "smote_5 KNN_5\n",
      "smote_5 KNN_15\n",
      "smote_5 LR\n"
     ]
    },
    {
     "name": "stderr",
     "output_type": "stream",
     "text": [
      "/Applications/anaconda3/lib/python3.8/site-packages/sklearn/linear_model/_sag.py:329: ConvergenceWarning: The max_iter was reached which means the coef_ did not converge\n",
      "  warnings.warn(\"The max_iter was reached which means \"\n",
      "/Applications/anaconda3/lib/python3.8/site-packages/sklearn/linear_model/_sag.py:329: ConvergenceWarning: The max_iter was reached which means the coef_ did not converge\n",
      "  warnings.warn(\"The max_iter was reached which means \"\n",
      "/Applications/anaconda3/lib/python3.8/site-packages/sklearn/linear_model/_sag.py:329: ConvergenceWarning: The max_iter was reached which means the coef_ did not converge\n",
      "  warnings.warn(\"The max_iter was reached which means \"\n",
      "/Applications/anaconda3/lib/python3.8/site-packages/sklearn/linear_model/_sag.py:329: ConvergenceWarning: The max_iter was reached which means the coef_ did not converge\n",
      "  warnings.warn(\"The max_iter was reached which means \"\n",
      "/Applications/anaconda3/lib/python3.8/site-packages/sklearn/linear_model/_sag.py:329: ConvergenceWarning: The max_iter was reached which means the coef_ did not converge\n",
      "  warnings.warn(\"The max_iter was reached which means \"\n",
      "/Applications/anaconda3/lib/python3.8/site-packages/sklearn/linear_model/_sag.py:329: ConvergenceWarning: The max_iter was reached which means the coef_ did not converge\n",
      "  warnings.warn(\"The max_iter was reached which means \"\n",
      "/Applications/anaconda3/lib/python3.8/site-packages/sklearn/linear_model/_sag.py:329: ConvergenceWarning: The max_iter was reached which means the coef_ did not converge\n",
      "  warnings.warn(\"The max_iter was reached which means \"\n",
      "/Applications/anaconda3/lib/python3.8/site-packages/sklearn/linear_model/_sag.py:329: ConvergenceWarning: The max_iter was reached which means the coef_ did not converge\n",
      "  warnings.warn(\"The max_iter was reached which means \"\n",
      "/Applications/anaconda3/lib/python3.8/site-packages/sklearn/linear_model/_sag.py:329: ConvergenceWarning: The max_iter was reached which means the coef_ did not converge\n",
      "  warnings.warn(\"The max_iter was reached which means \"\n",
      "/Applications/anaconda3/lib/python3.8/site-packages/sklearn/linear_model/_sag.py:329: ConvergenceWarning: The max_iter was reached which means the coef_ did not converge\n",
      "  warnings.warn(\"The max_iter was reached which means \"\n"
     ]
    },
    {
     "name": "stdout",
     "output_type": "stream",
     "text": [
      "smote_5 GB_default\n",
      "smote_5 GB_ne500\n",
      "smote_5 GB_ne500md10\n",
      "smote_5 AB\n",
      "smote_5 LSVC_0.1\n"
     ]
    },
    {
     "name": "stderr",
     "output_type": "stream",
     "text": [
      "/Applications/anaconda3/lib/python3.8/site-packages/sklearn/svm/_base.py:976: ConvergenceWarning: Liblinear failed to converge, increase the number of iterations.\n",
      "  warnings.warn(\"Liblinear failed to converge, increase \"\n",
      "/Applications/anaconda3/lib/python3.8/site-packages/sklearn/svm/_base.py:976: ConvergenceWarning: Liblinear failed to converge, increase the number of iterations.\n",
      "  warnings.warn(\"Liblinear failed to converge, increase \"\n",
      "/Applications/anaconda3/lib/python3.8/site-packages/sklearn/svm/_base.py:976: ConvergenceWarning: Liblinear failed to converge, increase the number of iterations.\n",
      "  warnings.warn(\"Liblinear failed to converge, increase \"\n",
      "/Applications/anaconda3/lib/python3.8/site-packages/sklearn/svm/_base.py:976: ConvergenceWarning: Liblinear failed to converge, increase the number of iterations.\n",
      "  warnings.warn(\"Liblinear failed to converge, increase \"\n",
      "/Applications/anaconda3/lib/python3.8/site-packages/sklearn/svm/_base.py:976: ConvergenceWarning: Liblinear failed to converge, increase the number of iterations.\n",
      "  warnings.warn(\"Liblinear failed to converge, increase \"\n",
      "/Applications/anaconda3/lib/python3.8/site-packages/sklearn/svm/_base.py:976: ConvergenceWarning: Liblinear failed to converge, increase the number of iterations.\n",
      "  warnings.warn(\"Liblinear failed to converge, increase \"\n",
      "/Applications/anaconda3/lib/python3.8/site-packages/sklearn/svm/_base.py:976: ConvergenceWarning: Liblinear failed to converge, increase the number of iterations.\n",
      "  warnings.warn(\"Liblinear failed to converge, increase \"\n",
      "/Applications/anaconda3/lib/python3.8/site-packages/sklearn/svm/_base.py:976: ConvergenceWarning: Liblinear failed to converge, increase the number of iterations.\n",
      "  warnings.warn(\"Liblinear failed to converge, increase \"\n",
      "/Applications/anaconda3/lib/python3.8/site-packages/sklearn/svm/_base.py:976: ConvergenceWarning: Liblinear failed to converge, increase the number of iterations.\n",
      "  warnings.warn(\"Liblinear failed to converge, increase \"\n",
      "/Applications/anaconda3/lib/python3.8/site-packages/sklearn/svm/_base.py:976: ConvergenceWarning: Liblinear failed to converge, increase the number of iterations.\n",
      "  warnings.warn(\"Liblinear failed to converge, increase \"\n"
     ]
    },
    {
     "name": "stdout",
     "output_type": "stream",
     "text": [
      "smote_5 LSVC_1\n"
     ]
    },
    {
     "name": "stderr",
     "output_type": "stream",
     "text": [
      "/Applications/anaconda3/lib/python3.8/site-packages/sklearn/svm/_base.py:976: ConvergenceWarning: Liblinear failed to converge, increase the number of iterations.\n",
      "  warnings.warn(\"Liblinear failed to converge, increase \"\n",
      "/Applications/anaconda3/lib/python3.8/site-packages/sklearn/svm/_base.py:976: ConvergenceWarning: Liblinear failed to converge, increase the number of iterations.\n",
      "  warnings.warn(\"Liblinear failed to converge, increase \"\n",
      "/Applications/anaconda3/lib/python3.8/site-packages/sklearn/svm/_base.py:976: ConvergenceWarning: Liblinear failed to converge, increase the number of iterations.\n",
      "  warnings.warn(\"Liblinear failed to converge, increase \"\n",
      "/Applications/anaconda3/lib/python3.8/site-packages/sklearn/metrics/_classification.py:1221: UndefinedMetricWarning: Precision is ill-defined and being set to 0.0 in labels with no predicted samples. Use `zero_division` parameter to control this behavior.\n",
      "  _warn_prf(average, modifier, msg_start, len(result))\n",
      "/Applications/anaconda3/lib/python3.8/site-packages/sklearn/svm/_base.py:976: ConvergenceWarning: Liblinear failed to converge, increase the number of iterations.\n",
      "  warnings.warn(\"Liblinear failed to converge, increase \"\n",
      "/Applications/anaconda3/lib/python3.8/site-packages/sklearn/svm/_base.py:976: ConvergenceWarning: Liblinear failed to converge, increase the number of iterations.\n",
      "  warnings.warn(\"Liblinear failed to converge, increase \"\n",
      "/Applications/anaconda3/lib/python3.8/site-packages/sklearn/svm/_base.py:976: ConvergenceWarning: Liblinear failed to converge, increase the number of iterations.\n",
      "  warnings.warn(\"Liblinear failed to converge, increase \"\n",
      "/Applications/anaconda3/lib/python3.8/site-packages/sklearn/svm/_base.py:976: ConvergenceWarning: Liblinear failed to converge, increase the number of iterations.\n",
      "  warnings.warn(\"Liblinear failed to converge, increase \"\n",
      "/Applications/anaconda3/lib/python3.8/site-packages/sklearn/svm/_base.py:976: ConvergenceWarning: Liblinear failed to converge, increase the number of iterations.\n",
      "  warnings.warn(\"Liblinear failed to converge, increase \"\n",
      "/Applications/anaconda3/lib/python3.8/site-packages/sklearn/svm/_base.py:976: ConvergenceWarning: Liblinear failed to converge, increase the number of iterations.\n",
      "  warnings.warn(\"Liblinear failed to converge, increase \"\n",
      "/Applications/anaconda3/lib/python3.8/site-packages/sklearn/svm/_base.py:976: ConvergenceWarning: Liblinear failed to converge, increase the number of iterations.\n",
      "  warnings.warn(\"Liblinear failed to converge, increase \"\n"
     ]
    },
    {
     "name": "stdout",
     "output_type": "stream",
     "text": [
      "smote_5 LSVC_10\n"
     ]
    },
    {
     "name": "stderr",
     "output_type": "stream",
     "text": [
      "/Applications/anaconda3/lib/python3.8/site-packages/sklearn/svm/_base.py:976: ConvergenceWarning: Liblinear failed to converge, increase the number of iterations.\n",
      "  warnings.warn(\"Liblinear failed to converge, increase \"\n",
      "/Applications/anaconda3/lib/python3.8/site-packages/sklearn/svm/_base.py:976: ConvergenceWarning: Liblinear failed to converge, increase the number of iterations.\n",
      "  warnings.warn(\"Liblinear failed to converge, increase \"\n",
      "/Applications/anaconda3/lib/python3.8/site-packages/sklearn/svm/_base.py:976: ConvergenceWarning: Liblinear failed to converge, increase the number of iterations.\n",
      "  warnings.warn(\"Liblinear failed to converge, increase \"\n",
      "/Applications/anaconda3/lib/python3.8/site-packages/sklearn/svm/_base.py:976: ConvergenceWarning: Liblinear failed to converge, increase the number of iterations.\n",
      "  warnings.warn(\"Liblinear failed to converge, increase \"\n",
      "/Applications/anaconda3/lib/python3.8/site-packages/sklearn/svm/_base.py:976: ConvergenceWarning: Liblinear failed to converge, increase the number of iterations.\n",
      "  warnings.warn(\"Liblinear failed to converge, increase \"\n",
      "/Applications/anaconda3/lib/python3.8/site-packages/sklearn/svm/_base.py:976: ConvergenceWarning: Liblinear failed to converge, increase the number of iterations.\n",
      "  warnings.warn(\"Liblinear failed to converge, increase \"\n",
      "/Applications/anaconda3/lib/python3.8/site-packages/sklearn/svm/_base.py:976: ConvergenceWarning: Liblinear failed to converge, increase the number of iterations.\n",
      "  warnings.warn(\"Liblinear failed to converge, increase \"\n",
      "/Applications/anaconda3/lib/python3.8/site-packages/sklearn/svm/_base.py:976: ConvergenceWarning: Liblinear failed to converge, increase the number of iterations.\n",
      "  warnings.warn(\"Liblinear failed to converge, increase \"\n",
      "/Applications/anaconda3/lib/python3.8/site-packages/sklearn/svm/_base.py:976: ConvergenceWarning: Liblinear failed to converge, increase the number of iterations.\n",
      "  warnings.warn(\"Liblinear failed to converge, increase \"\n",
      "/Applications/anaconda3/lib/python3.8/site-packages/sklearn/svm/_base.py:976: ConvergenceWarning: Liblinear failed to converge, increase the number of iterations.\n",
      "  warnings.warn(\"Liblinear failed to converge, increase \"\n"
     ]
    },
    {
     "name": "stdout",
     "output_type": "stream",
     "text": [
      "smote_5 Gaussian\n"
     ]
    }
   ],
   "source": [
    "for sampler, samplerName in Methods_sampling:\n",
    "    for model, modelName in Methods_learn:\n",
    "        print(samplerName, modelName)\n",
    "        Ks = StratifiedKFold(n_splits = 10, random_state = 42, shuffle= True) # Create Object\n",
    "        Ks.get_n_splits(X_train, y_train) # Preparar para experiment\n",
    "        \n",
    "        recalls_fold = []\n",
    "        precisions_fold = []\n",
    "        f1_fold = []\n",
    "\n",
    "        \n",
    "        for train_idx, val_idx in Ks.split(X_train, y_train):\n",
    "            xTrain_fold, yTrain_fold = X_train[train_idx, :], y_train[train_idx] \n",
    "            xVal_fold, yVal_fold = X_train[val_idx, :], y_train[val_idx] \n",
    "\n",
    "    \n",
    "            xTrain_resample, yTrain_resample = sampler.fit_sample(xTrain_fold, yTrain_fold)\n",
    "                                                                  \n",
    "            model.fit(xTrain_resample, yTrain_resample)\n",
    "                                                                  \n",
    "            yPred = model.predict(xVal_fold)\n",
    "\n",
    "            recalls_fold.append([recall_score(yVal_fold,yPred, average = None)])\n",
    "            precisions_fold.append([precision_score(yVal_fold,yPred, average = None)])\n",
    "            f1_fold.append([f1_score(yVal_fold,yPred, average = None)])\n",
    "\n",
    "            methods.append(samplerName+\"-\"+modelName)\n",
    "        recalls_fold = np.vstack(recalls_fold)\n",
    "        precisions_fold = np.vstack(precisions_fold)\n",
    "        f1_fold = np.vstack(f1_fold)\n",
    "        \n",
    "        recalls.append(recalls_fold.mean(axis = 0))\n",
    "        precisions.append(precisions_fold.mean(axis = 0))\n",
    "        f1.append(f1_fold.mean(axis = 0))"
   ]
  },
  {
   "cell_type": "markdown",
   "metadata": {},
   "source": [
    "### Organizing scores for comparison"
   ]
  },
  {
   "cell_type": "code",
   "execution_count": null,
   "metadata": {},
   "outputs": [],
   "source": [
    "recalls = np.vstack(recalls)\n",
    "precisions = np.vstack(precisions)\n",
    "f1 = np.vstack(f1)\n",
    "\n",
    "recalls = pd.DataFrame(recalls.T, columns = methods)\n",
    "precisions = pd.DataFrame(precisions.T, columns = methods)\n",
    "f1 = pd.DataFrame(f1.T, columns = methods)\n",
    "\n",
    "recalls.to_excel('recalls_multiclass.xlsx')\n",
    "precisions.to_excel('precisions_multiclass.xlsx')\n",
    "f1.to_excel('f1_multiclass.xlsx')"
   ]
  },
  {
   "cell_type": "code",
   "execution_count": 9,
   "metadata": {},
   "outputs": [],
   "source": [
    "pd.set_option('display.max_columns', 500)"
   ]
  },
  {
   "cell_type": "markdown",
   "metadata": {},
   "source": [
    "#### Recalls for classes 1, 2, and 3"
   ]
  },
  {
   "cell_type": "code",
   "execution_count": 10,
   "metadata": {},
   "outputs": [
    {
     "data": {
      "text/html": [
       "<div>\n",
       "<style scoped>\n",
       "    .dataframe tbody tr th:only-of-type {\n",
       "        vertical-align: middle;\n",
       "    }\n",
       "\n",
       "    .dataframe tbody tr th {\n",
       "        vertical-align: top;\n",
       "    }\n",
       "\n",
       "    .dataframe thead th {\n",
       "        text-align: right;\n",
       "    }\n",
       "</style>\n",
       "<table border=\"1\" class=\"dataframe\">\n",
       "  <thead>\n",
       "    <tr style=\"text-align: right;\">\n",
       "      <th></th>\n",
       "      <th>Unnamed: 0</th>\n",
       "      <th>RUS-DT6</th>\n",
       "      <th>RUS-DT12</th>\n",
       "      <th>RUS-DT32</th>\n",
       "      <th>RUS-RF_50</th>\n",
       "      <th>RUS-RF_100</th>\n",
       "      <th>RUS-KNN_5</th>\n",
       "      <th>ROS-DT6</th>\n",
       "      <th>ROS-DT12</th>\n",
       "      <th>ROS-DT32</th>\n",
       "      <th>ROS-RF_50</th>\n",
       "      <th>ROS-RF_100</th>\n",
       "      <th>ROS-KNN_5</th>\n",
       "      <th>smote_1-DT6</th>\n",
       "      <th>smote_1-DT12</th>\n",
       "      <th>smote_1-DT32</th>\n",
       "      <th>smote_1-RF_50</th>\n",
       "      <th>smote_1-RF_100</th>\n",
       "      <th>smote_1-KNN_5</th>\n",
       "      <th>smote_5-DT6</th>\n",
       "      <th>smote_5-DT12</th>\n",
       "      <th>smote_5-DT32</th>\n",
       "      <th>smote_5-RF_50</th>\n",
       "      <th>smote_5-RF_100</th>\n",
       "      <th>smote_5-KNN_5</th>\n",
       "    </tr>\n",
       "  </thead>\n",
       "  <tbody>\n",
       "    <tr>\n",
       "      <th>0</th>\n",
       "      <td>0</td>\n",
       "      <td>0.730204</td>\n",
       "      <td>0.721164</td>\n",
       "      <td>0.689603</td>\n",
       "      <td>0.779935</td>\n",
       "      <td>0.770873</td>\n",
       "      <td>0.680962</td>\n",
       "      <td>0.736295</td>\n",
       "      <td>0.671451</td>\n",
       "      <td>0.424151</td>\n",
       "      <td>0.498485</td>\n",
       "      <td>0.493751</td>\n",
       "      <td>0.628196</td>\n",
       "      <td>0.629939</td>\n",
       "      <td>0.569367</td>\n",
       "      <td>0.466489</td>\n",
       "      <td>0.502383</td>\n",
       "      <td>0.498925</td>\n",
       "      <td>0.606581</td>\n",
       "      <td>0.592728</td>\n",
       "      <td>0.552541</td>\n",
       "      <td>0.481628</td>\n",
       "      <td>0.536543</td>\n",
       "      <td>0.529200</td>\n",
       "      <td>0.610474</td>\n",
       "    </tr>\n",
       "    <tr>\n",
       "      <th>1</th>\n",
       "      <td>1</td>\n",
       "      <td>0.442802</td>\n",
       "      <td>0.449102</td>\n",
       "      <td>0.457375</td>\n",
       "      <td>0.487474</td>\n",
       "      <td>0.483737</td>\n",
       "      <td>0.389267</td>\n",
       "      <td>0.449687</td>\n",
       "      <td>0.518457</td>\n",
       "      <td>0.672551</td>\n",
       "      <td>0.744179</td>\n",
       "      <td>0.753334</td>\n",
       "      <td>0.514503</td>\n",
       "      <td>0.538672</td>\n",
       "      <td>0.595064</td>\n",
       "      <td>0.627509</td>\n",
       "      <td>0.723597</td>\n",
       "      <td>0.722427</td>\n",
       "      <td>0.535011</td>\n",
       "      <td>0.530322</td>\n",
       "      <td>0.615132</td>\n",
       "      <td>0.618354</td>\n",
       "      <td>0.698258</td>\n",
       "      <td>0.704849</td>\n",
       "      <td>0.540357</td>\n",
       "    </tr>\n",
       "    <tr>\n",
       "      <th>2</th>\n",
       "      <td>2</td>\n",
       "      <td>0.709451</td>\n",
       "      <td>0.675712</td>\n",
       "      <td>0.606247</td>\n",
       "      <td>0.670731</td>\n",
       "      <td>0.676330</td>\n",
       "      <td>0.374954</td>\n",
       "      <td>0.711068</td>\n",
       "      <td>0.709821</td>\n",
       "      <td>0.568278</td>\n",
       "      <td>0.582223</td>\n",
       "      <td>0.589567</td>\n",
       "      <td>0.596162</td>\n",
       "      <td>0.715175</td>\n",
       "      <td>0.676083</td>\n",
       "      <td>0.580103</td>\n",
       "      <td>0.602635</td>\n",
       "      <td>0.603758</td>\n",
       "      <td>0.597411</td>\n",
       "      <td>0.732108</td>\n",
       "      <td>0.667623</td>\n",
       "      <td>0.581723</td>\n",
       "      <td>0.606996</td>\n",
       "      <td>0.609235</td>\n",
       "      <td>0.577742</td>\n",
       "    </tr>\n",
       "  </tbody>\n",
       "</table>\n",
       "</div>"
      ],
      "text/plain": [
       "   Unnamed: 0   RUS-DT6  RUS-DT12  RUS-DT32  RUS-RF_50  RUS-RF_100  RUS-KNN_5  \\\n",
       "0           0  0.730204  0.721164  0.689603   0.779935    0.770873   0.680962   \n",
       "1           1  0.442802  0.449102  0.457375   0.487474    0.483737   0.389267   \n",
       "2           2  0.709451  0.675712  0.606247   0.670731    0.676330   0.374954   \n",
       "\n",
       "    ROS-DT6  ROS-DT12  ROS-DT32  ROS-RF_50  ROS-RF_100  ROS-KNN_5  \\\n",
       "0  0.736295  0.671451  0.424151   0.498485    0.493751   0.628196   \n",
       "1  0.449687  0.518457  0.672551   0.744179    0.753334   0.514503   \n",
       "2  0.711068  0.709821  0.568278   0.582223    0.589567   0.596162   \n",
       "\n",
       "   smote_1-DT6  smote_1-DT12  smote_1-DT32  smote_1-RF_50  smote_1-RF_100  \\\n",
       "0     0.629939      0.569367      0.466489       0.502383        0.498925   \n",
       "1     0.538672      0.595064      0.627509       0.723597        0.722427   \n",
       "2     0.715175      0.676083      0.580103       0.602635        0.603758   \n",
       "\n",
       "   smote_1-KNN_5  smote_5-DT6  smote_5-DT12  smote_5-DT32  smote_5-RF_50  \\\n",
       "0       0.606581     0.592728      0.552541      0.481628       0.536543   \n",
       "1       0.535011     0.530322      0.615132      0.618354       0.698258   \n",
       "2       0.597411     0.732108      0.667623      0.581723       0.606996   \n",
       "\n",
       "   smote_5-RF_100  smote_5-KNN_5  \n",
       "0        0.529200       0.610474  \n",
       "1        0.704849       0.540357  \n",
       "2        0.609235       0.577742  "
      ]
     },
     "execution_count": 10,
     "metadata": {},
     "output_type": "execute_result"
    }
   ],
   "source": [
    "recalls = pd.read_excel('/Users/lauraurdapilleta/OneDrive/Metis/onl20_ds4/curriculum/project-03/my-project-03/EDA/My Repo/recalls_multiclass.xlsx')\n",
    "recalls"
   ]
  },
  {
   "cell_type": "markdown",
   "metadata": {},
   "source": [
    "#### Precisions for classes 1, 2, and 3"
   ]
  },
  {
   "cell_type": "code",
   "execution_count": 13,
   "metadata": {},
   "outputs": [
    {
     "data": {
      "text/html": [
       "<div>\n",
       "<style scoped>\n",
       "    .dataframe tbody tr th:only-of-type {\n",
       "        vertical-align: middle;\n",
       "    }\n",
       "\n",
       "    .dataframe tbody tr th {\n",
       "        vertical-align: top;\n",
       "    }\n",
       "\n",
       "    .dataframe thead th {\n",
       "        text-align: right;\n",
       "    }\n",
       "</style>\n",
       "<table border=\"1\" class=\"dataframe\">\n",
       "  <thead>\n",
       "    <tr style=\"text-align: right;\">\n",
       "      <th></th>\n",
       "      <th>Unnamed: 0</th>\n",
       "      <th>RUS-DT6</th>\n",
       "      <th>RUS-DT12</th>\n",
       "      <th>RUS-DT32</th>\n",
       "      <th>RUS-RF_50</th>\n",
       "      <th>RUS-RF_100</th>\n",
       "      <th>RUS-KNN_5</th>\n",
       "      <th>ROS-DT6</th>\n",
       "      <th>ROS-DT12</th>\n",
       "      <th>ROS-DT32</th>\n",
       "      <th>ROS-RF_50</th>\n",
       "      <th>ROS-RF_100</th>\n",
       "      <th>ROS-KNN_5</th>\n",
       "      <th>smote_1-DT6</th>\n",
       "      <th>smote_1-DT12</th>\n",
       "      <th>smote_1-DT32</th>\n",
       "      <th>smote_1-RF_50</th>\n",
       "      <th>smote_1-RF_100</th>\n",
       "      <th>smote_1-KNN_5</th>\n",
       "      <th>smote_5-DT6</th>\n",
       "      <th>smote_5-DT12</th>\n",
       "      <th>smote_5-DT32</th>\n",
       "      <th>smote_5-RF_50</th>\n",
       "      <th>smote_5-RF_100</th>\n",
       "      <th>smote_5-KNN_5</th>\n",
       "    </tr>\n",
       "  </thead>\n",
       "  <tbody>\n",
       "    <tr>\n",
       "      <th>0</th>\n",
       "      <td>0</td>\n",
       "      <td>0.322089</td>\n",
       "      <td>0.315535</td>\n",
       "      <td>0.291872</td>\n",
       "      <td>0.356216</td>\n",
       "      <td>0.358441</td>\n",
       "      <td>0.180787</td>\n",
       "      <td>0.321197</td>\n",
       "      <td>0.358338</td>\n",
       "      <td>0.423805</td>\n",
       "      <td>0.533444</td>\n",
       "      <td>0.536956</td>\n",
       "      <td>0.310331</td>\n",
       "      <td>0.403061</td>\n",
       "      <td>0.402957</td>\n",
       "      <td>0.380569</td>\n",
       "      <td>0.522836</td>\n",
       "      <td>0.524958</td>\n",
       "      <td>0.310209</td>\n",
       "      <td>0.420313</td>\n",
       "      <td>0.417262</td>\n",
       "      <td>0.369553</td>\n",
       "      <td>0.497848</td>\n",
       "      <td>0.498470</td>\n",
       "      <td>0.292020</td>\n",
       "    </tr>\n",
       "    <tr>\n",
       "      <th>1</th>\n",
       "      <td>1</td>\n",
       "      <td>0.722639</td>\n",
       "      <td>0.704220</td>\n",
       "      <td>0.671439</td>\n",
       "      <td>0.722401</td>\n",
       "      <td>0.720881</td>\n",
       "      <td>0.627408</td>\n",
       "      <td>0.727285</td>\n",
       "      <td>0.732759</td>\n",
       "      <td>0.673463</td>\n",
       "      <td>0.700556</td>\n",
       "      <td>0.704954</td>\n",
       "      <td>0.698541</td>\n",
       "      <td>0.726922</td>\n",
       "      <td>0.718406</td>\n",
       "      <td>0.677161</td>\n",
       "      <td>0.705682</td>\n",
       "      <td>0.704846</td>\n",
       "      <td>0.703018</td>\n",
       "      <td>0.731048</td>\n",
       "      <td>0.715716</td>\n",
       "      <td>0.679554</td>\n",
       "      <td>0.706742</td>\n",
       "      <td>0.708185</td>\n",
       "      <td>0.703904</td>\n",
       "    </tr>\n",
       "    <tr>\n",
       "      <th>2</th>\n",
       "      <td>2</td>\n",
       "      <td>0.552740</td>\n",
       "      <td>0.543476</td>\n",
       "      <td>0.527740</td>\n",
       "      <td>0.554702</td>\n",
       "      <td>0.551311</td>\n",
       "      <td>0.442345</td>\n",
       "      <td>0.561200</td>\n",
       "      <td>0.570410</td>\n",
       "      <td>0.567328</td>\n",
       "      <td>0.638273</td>\n",
       "      <td>0.650905</td>\n",
       "      <td>0.517170</td>\n",
       "      <td>0.560722</td>\n",
       "      <td>0.577040</td>\n",
       "      <td>0.548230</td>\n",
       "      <td>0.622917</td>\n",
       "      <td>0.621590</td>\n",
       "      <td>0.528270</td>\n",
       "      <td>0.543470</td>\n",
       "      <td>0.583337</td>\n",
       "      <td>0.546134</td>\n",
       "      <td>0.608735</td>\n",
       "      <td>0.615905</td>\n",
       "      <td>0.534987</td>\n",
       "    </tr>\n",
       "  </tbody>\n",
       "</table>\n",
       "</div>"
      ],
      "text/plain": [
       "   Unnamed: 0   RUS-DT6  RUS-DT12  RUS-DT32  RUS-RF_50  RUS-RF_100  RUS-KNN_5  \\\n",
       "0           0  0.322089  0.315535  0.291872   0.356216    0.358441   0.180787   \n",
       "1           1  0.722639  0.704220  0.671439   0.722401    0.720881   0.627408   \n",
       "2           2  0.552740  0.543476  0.527740   0.554702    0.551311   0.442345   \n",
       "\n",
       "    ROS-DT6  ROS-DT12  ROS-DT32  ROS-RF_50  ROS-RF_100  ROS-KNN_5  \\\n",
       "0  0.321197  0.358338  0.423805   0.533444    0.536956   0.310331   \n",
       "1  0.727285  0.732759  0.673463   0.700556    0.704954   0.698541   \n",
       "2  0.561200  0.570410  0.567328   0.638273    0.650905   0.517170   \n",
       "\n",
       "   smote_1-DT6  smote_1-DT12  smote_1-DT32  smote_1-RF_50  smote_1-RF_100  \\\n",
       "0     0.403061      0.402957      0.380569       0.522836        0.524958   \n",
       "1     0.726922      0.718406      0.677161       0.705682        0.704846   \n",
       "2     0.560722      0.577040      0.548230       0.622917        0.621590   \n",
       "\n",
       "   smote_1-KNN_5  smote_5-DT6  smote_5-DT12  smote_5-DT32  smote_5-RF_50  \\\n",
       "0       0.310209     0.420313      0.417262      0.369553       0.497848   \n",
       "1       0.703018     0.731048      0.715716      0.679554       0.706742   \n",
       "2       0.528270     0.543470      0.583337      0.546134       0.608735   \n",
       "\n",
       "   smote_5-RF_100  smote_5-KNN_5  \n",
       "0        0.498470       0.292020  \n",
       "1        0.708185       0.703904  \n",
       "2        0.615905       0.534987  "
      ]
     },
     "execution_count": 13,
     "metadata": {},
     "output_type": "execute_result"
    }
   ],
   "source": [
    "precisions = pd.read_excel('/Users/lauraurdapilleta/OneDrive/Metis/onl20_ds4/curriculum/project-03/my-project-03/EDA/My Repo/precisions_multiclass.xlsx')\n",
    "precisions"
   ]
  },
  {
   "cell_type": "markdown",
   "metadata": {},
   "source": [
    "#### F1s for classes 1, 2, and 3"
   ]
  },
  {
   "cell_type": "code",
   "execution_count": 14,
   "metadata": {},
   "outputs": [
    {
     "data": {
      "text/html": [
       "<div>\n",
       "<style scoped>\n",
       "    .dataframe tbody tr th:only-of-type {\n",
       "        vertical-align: middle;\n",
       "    }\n",
       "\n",
       "    .dataframe tbody tr th {\n",
       "        vertical-align: top;\n",
       "    }\n",
       "\n",
       "    .dataframe thead th {\n",
       "        text-align: right;\n",
       "    }\n",
       "</style>\n",
       "<table border=\"1\" class=\"dataframe\">\n",
       "  <thead>\n",
       "    <tr style=\"text-align: right;\">\n",
       "      <th></th>\n",
       "      <th>Unnamed: 0</th>\n",
       "      <th>RUS-DT6</th>\n",
       "      <th>RUS-DT12</th>\n",
       "      <th>RUS-DT32</th>\n",
       "      <th>RUS-RF_50</th>\n",
       "      <th>RUS-RF_100</th>\n",
       "      <th>RUS-KNN_5</th>\n",
       "      <th>ROS-DT6</th>\n",
       "      <th>ROS-DT12</th>\n",
       "      <th>ROS-DT32</th>\n",
       "      <th>ROS-RF_50</th>\n",
       "      <th>ROS-RF_100</th>\n",
       "      <th>ROS-KNN_5</th>\n",
       "      <th>smote_1-DT6</th>\n",
       "      <th>smote_1-DT12</th>\n",
       "      <th>smote_1-DT32</th>\n",
       "      <th>smote_1-RF_50</th>\n",
       "      <th>smote_1-RF_100</th>\n",
       "      <th>smote_1-KNN_5</th>\n",
       "      <th>smote_5-DT6</th>\n",
       "      <th>smote_5-DT12</th>\n",
       "      <th>smote_5-DT32</th>\n",
       "      <th>smote_5-RF_50</th>\n",
       "      <th>smote_5-RF_100</th>\n",
       "      <th>smote_5-KNN_5</th>\n",
       "    </tr>\n",
       "  </thead>\n",
       "  <tbody>\n",
       "    <tr>\n",
       "      <th>0</th>\n",
       "      <td>0</td>\n",
       "      <td>0.444986</td>\n",
       "      <td>0.438680</td>\n",
       "      <td>0.410055</td>\n",
       "      <td>0.488926</td>\n",
       "      <td>0.489263</td>\n",
       "      <td>0.285673</td>\n",
       "      <td>0.445141</td>\n",
       "      <td>0.467010</td>\n",
       "      <td>0.423664</td>\n",
       "      <td>0.514959</td>\n",
       "      <td>0.514142</td>\n",
       "      <td>0.415361</td>\n",
       "      <td>0.490845</td>\n",
       "      <td>0.471590</td>\n",
       "      <td>0.418868</td>\n",
       "      <td>0.511879</td>\n",
       "      <td>0.511234</td>\n",
       "      <td>0.410410</td>\n",
       "      <td>0.491553</td>\n",
       "      <td>0.475166</td>\n",
       "      <td>0.417890</td>\n",
       "      <td>0.515966</td>\n",
       "      <td>0.512920</td>\n",
       "      <td>0.394922</td>\n",
       "    </tr>\n",
       "    <tr>\n",
       "      <th>1</th>\n",
       "      <td>1</td>\n",
       "      <td>0.548730</td>\n",
       "      <td>0.548279</td>\n",
       "      <td>0.543975</td>\n",
       "      <td>0.581972</td>\n",
       "      <td>0.578836</td>\n",
       "      <td>0.480275</td>\n",
       "      <td>0.554937</td>\n",
       "      <td>0.607027</td>\n",
       "      <td>0.672972</td>\n",
       "      <td>0.721673</td>\n",
       "      <td>0.728309</td>\n",
       "      <td>0.592492</td>\n",
       "      <td>0.618641</td>\n",
       "      <td>0.650802</td>\n",
       "      <td>0.651338</td>\n",
       "      <td>0.714501</td>\n",
       "      <td>0.713508</td>\n",
       "      <td>0.607573</td>\n",
       "      <td>0.614464</td>\n",
       "      <td>0.661412</td>\n",
       "      <td>0.647439</td>\n",
       "      <td>0.702432</td>\n",
       "      <td>0.706472</td>\n",
       "      <td>0.611335</td>\n",
       "    </tr>\n",
       "    <tr>\n",
       "      <th>2</th>\n",
       "      <td>2</td>\n",
       "      <td>0.620685</td>\n",
       "      <td>0.602123</td>\n",
       "      <td>0.564189</td>\n",
       "      <td>0.607086</td>\n",
       "      <td>0.607284</td>\n",
       "      <td>0.405742</td>\n",
       "      <td>0.627241</td>\n",
       "      <td>0.632388</td>\n",
       "      <td>0.567771</td>\n",
       "      <td>0.608795</td>\n",
       "      <td>0.618581</td>\n",
       "      <td>0.553801</td>\n",
       "      <td>0.628483</td>\n",
       "      <td>0.622490</td>\n",
       "      <td>0.563500</td>\n",
       "      <td>0.612499</td>\n",
       "      <td>0.612447</td>\n",
       "      <td>0.560618</td>\n",
       "      <td>0.623658</td>\n",
       "      <td>0.622422</td>\n",
       "      <td>0.563244</td>\n",
       "      <td>0.607733</td>\n",
       "      <td>0.612434</td>\n",
       "      <td>0.555434</td>\n",
       "    </tr>\n",
       "  </tbody>\n",
       "</table>\n",
       "</div>"
      ],
      "text/plain": [
       "   Unnamed: 0   RUS-DT6  RUS-DT12  RUS-DT32  RUS-RF_50  RUS-RF_100  RUS-KNN_5  \\\n",
       "0           0  0.444986  0.438680  0.410055   0.488926    0.489263   0.285673   \n",
       "1           1  0.548730  0.548279  0.543975   0.581972    0.578836   0.480275   \n",
       "2           2  0.620685  0.602123  0.564189   0.607086    0.607284   0.405742   \n",
       "\n",
       "    ROS-DT6  ROS-DT12  ROS-DT32  ROS-RF_50  ROS-RF_100  ROS-KNN_5  \\\n",
       "0  0.445141  0.467010  0.423664   0.514959    0.514142   0.415361   \n",
       "1  0.554937  0.607027  0.672972   0.721673    0.728309   0.592492   \n",
       "2  0.627241  0.632388  0.567771   0.608795    0.618581   0.553801   \n",
       "\n",
       "   smote_1-DT6  smote_1-DT12  smote_1-DT32  smote_1-RF_50  smote_1-RF_100  \\\n",
       "0     0.490845      0.471590      0.418868       0.511879        0.511234   \n",
       "1     0.618641      0.650802      0.651338       0.714501        0.713508   \n",
       "2     0.628483      0.622490      0.563500       0.612499        0.612447   \n",
       "\n",
       "   smote_1-KNN_5  smote_5-DT6  smote_5-DT12  smote_5-DT32  smote_5-RF_50  \\\n",
       "0       0.410410     0.491553      0.475166      0.417890       0.515966   \n",
       "1       0.607573     0.614464      0.661412      0.647439       0.702432   \n",
       "2       0.560618     0.623658      0.622422      0.563244       0.607733   \n",
       "\n",
       "   smote_5-RF_100  smote_5-KNN_5  \n",
       "0        0.512920       0.394922  \n",
       "1        0.706472       0.611335  \n",
       "2        0.612434       0.555434  "
      ]
     },
     "execution_count": 14,
     "metadata": {},
     "output_type": "execute_result"
    }
   ],
   "source": [
    "f1 = pd.read_excel('/Users/lauraurdapilleta/OneDrive/Metis/onl20_ds4/curriculum/project-03/my-project-03/EDA/My Repo/f1_multiclass.xlsx')\n",
    "f1"
   ]
  },
  {
   "cell_type": "markdown",
   "metadata": {},
   "source": [
    "All combinations were compared. Decision tree with random over sampler gave us a better recall for class number 3 (complete destruction). The model that offered the best recall for class 3 was chosen because it is critical to identify as much buildings at risk as possible. "
   ]
  },
  {
   "cell_type": "markdown",
   "metadata": {},
   "source": [
    "### Selected Model\n",
    "Getting final scores and confusion matrix on test set with the selected algorithm"
   ]
  },
  {
   "cell_type": "code",
   "execution_count": 22,
   "metadata": {},
   "outputs": [
    {
     "name": "stdout",
     "output_type": "stream",
     "text": [
      "                   pre       rec       spe        f1       geo       iba       sup\n",
      "\n",
      "          1       0.36      0.79      0.85      0.49      0.82      0.66       579\n",
      "          2       0.73      0.46      0.77      0.57      0.60      0.35      3413\n",
      "          3       0.56      0.71      0.71      0.62      0.71      0.51      2008\n",
      "\n",
      "avg / total       0.64      0.58      0.76      0.58      0.66      0.43      6000\n",
      "\n"
     ]
    },
    {
     "data": {
      "image/png": "[encoded data removed]",
      "text/plain": [
       "<Figure size 432x288 with 2 Axes>"
      ]
     },
     "metadata": {
      "needs_background": "light"
     },
     "output_type": "display_data"
    }
   ],
   "source": [
    "selected_model = tree.DecisionTreeClassifier(random_state = 42, max_depth=6)\n",
    "selected_sampler = RandomOverSampler(sampling_strategy = 'not majority', random_state = 42)\n",
    "\n",
    "xTrain_resample, yTrain_resample = selected_sampler.fit_sample(X_train, y_train)\n",
    "selected_model.fit(xTrain_resample, yTrain_resample)\n",
    "yPred = selected_model.predict(X_test)\n",
    "\n",
    "\n",
    "recalls_test = recall_score(y_test,yPred, average = None)\n",
    "precisions_test = precision_score(y_test,yPred, average = None)\n",
    "f1_test = f1_score(y_test,yPred, average = None)\n",
    "\n",
    "plt.figure()\n",
    "confusion_m = confusion_matrix(y_test,yPred)\n",
    "#sns.heatmap(confusion_m/confusion_m.sum()*100, annot=True)\n",
    "sns.heatmap(confusion_m, annot=True, fmt=\"d\", cmap=\"gray\")\n",
    "\n",
    "print(classification_report_imbalanced(y_test,yPred))"
   ]
  },
  {
   "cell_type": "markdown",
   "metadata": {},
   "source": [
    "For future work, we will implement a tree ensemble. "
   ]
  },
  {
   "cell_type": "code",
   "execution_count": null,
   "metadata": {},
   "outputs": [],
   "source": []
  }
 ],
 "metadata": {
  "kernelspec": {
   "display_name": "Python 3",
   "language": "python",
   "name": "python3"
  },
  "language_info": {
   "codemirror_mode": {
    "name": "ipython",
    "version": 3
   },
   "file_extension": ".py",
   "mimetype": "text/x-python",
   "name": "python",
   "nbconvert_exporter": "python",
   "pygments_lexer": "ipython3",
   "version": "3.8.3"
  }
 },
 "nbformat": 4,
 "nbformat_minor": 4
}
